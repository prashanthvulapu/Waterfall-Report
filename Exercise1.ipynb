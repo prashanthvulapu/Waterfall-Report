{
 "cells": [
  {
   "cell_type": "code",
   "execution_count": 1,
   "metadata": {},
   "outputs": [],
   "source": [
    "import os\n",
    "import pandas as pd\n",
    "import numpy as np"
   ]
  },
  {
   "cell_type": "code",
   "execution_count": 2,
   "metadata": {},
   "outputs": [],
   "source": [
    "os.chdir(\"C://Papu//Inmar//Final_exercise_1\")"
   ]
  },
  {
   "cell_type": "code",
   "execution_count": 3,
   "metadata": {},
   "outputs": [
    {
     "name": "stderr",
     "output_type": "stream",
     "text": [
      "C:\\Papu\\Anaconda3\\lib\\site-packages\\IPython\\core\\interactiveshell.py:2785: DtypeWarning: Columns (7) have mixed types. Specify dtype option on import or set low_memory=False.\n",
      "  interactivity=interactivity, compiler=compiler, result=result)\n"
     ]
    }
   ],
   "source": [
    "#converting consumer_incentive_1 csv file to dataframe\n",
    "df1 = pd.read_csv(\"consumer_incentive_1.csv\")"
   ]
  },
  {
   "cell_type": "code",
   "execution_count": 4,
   "metadata": {},
   "outputs": [
    {
     "data": {
      "text/html": [
       "<div>\n",
       "<style scoped>\n",
       "    .dataframe tbody tr th:only-of-type {\n",
       "        vertical-align: middle;\n",
       "    }\n",
       "\n",
       "    .dataframe tbody tr th {\n",
       "        vertical-align: top;\n",
       "    }\n",
       "\n",
       "    .dataframe thead th {\n",
       "        text-align: right;\n",
       "    }\n",
       "</style>\n",
       "<table border=\"1\" class=\"dataframe\">\n",
       "  <thead>\n",
       "    <tr style=\"text-align: right;\">\n",
       "      <th></th>\n",
       "      <th>consumer_incentive_id</th>\n",
       "      <th>consumer_id_id</th>\n",
       "      <th>incentive_id</th>\n",
       "      <th>status</th>\n",
       "      <th>value</th>\n",
       "      <th>selection_date</th>\n",
       "      <th>redeem_count</th>\n",
       "      <th>redeem_date</th>\n",
       "      <th>retailer_id</th>\n",
       "      <th>withdrawn_datetime</th>\n",
       "      <th>...</th>\n",
       "      <th>created_by</th>\n",
       "      <th>created_source</th>\n",
       "      <th>created_timestamp</th>\n",
       "      <th>updated_by</th>\n",
       "      <th>updated_source</th>\n",
       "      <th>updated_timestamp</th>\n",
       "      <th>clientid</th>\n",
       "      <th>transyear</th>\n",
       "      <th>transmonth</th>\n",
       "      <th>rk</th>\n",
       "    </tr>\n",
       "  </thead>\n",
       "  <tbody>\n",
       "    <tr>\n",
       "      <th>0</th>\n",
       "      <td>3432393</td>\n",
       "      <td>1252666</td>\n",
       "      <td>256009</td>\n",
       "      <td>1</td>\n",
       "      <td>100</td>\n",
       "      <td>2017-02-08 14:38:38.0</td>\n",
       "      <td>1.0</td>\n",
       "      <td>2017-02-10 19:09:58</td>\n",
       "      <td>0</td>\n",
       "      <td>NaN</td>\n",
       "      <td>...</td>\n",
       "      <td>NaN</td>\n",
       "      <td>NaN</td>\n",
       "      <td>NaN</td>\n",
       "      <td>NaN</td>\n",
       "      <td>NaN</td>\n",
       "      <td>NaN</td>\n",
       "      <td>162</td>\n",
       "      <td>2017</td>\n",
       "      <td>2</td>\n",
       "      <td>95117</td>\n",
       "    </tr>\n",
       "    <tr>\n",
       "      <th>1</th>\n",
       "      <td>3432395</td>\n",
       "      <td>151777</td>\n",
       "      <td>251856</td>\n",
       "      <td>1</td>\n",
       "      <td>150</td>\n",
       "      <td>2017-02-08 14:38:40.0</td>\n",
       "      <td>1.0</td>\n",
       "      <td>2017-04-15 14:26:07</td>\n",
       "      <td>0</td>\n",
       "      <td>NaN</td>\n",
       "      <td>...</td>\n",
       "      <td>NaN</td>\n",
       "      <td>NaN</td>\n",
       "      <td>NaN</td>\n",
       "      <td>NaN</td>\n",
       "      <td>NaN</td>\n",
       "      <td>NaN</td>\n",
       "      <td>162</td>\n",
       "      <td>2017</td>\n",
       "      <td>2</td>\n",
       "      <td>95118</td>\n",
       "    </tr>\n",
       "    <tr>\n",
       "      <th>2</th>\n",
       "      <td>3432419</td>\n",
       "      <td>268582</td>\n",
       "      <td>259208</td>\n",
       "      <td>1</td>\n",
       "      <td>200</td>\n",
       "      <td>2017-02-08 14:40:43.0</td>\n",
       "      <td>1.0</td>\n",
       "      <td>2017-02-08 12:22:40</td>\n",
       "      <td>0</td>\n",
       "      <td>NaN</td>\n",
       "      <td>...</td>\n",
       "      <td>NaN</td>\n",
       "      <td>NaN</td>\n",
       "      <td>NaN</td>\n",
       "      <td>NaN</td>\n",
       "      <td>NaN</td>\n",
       "      <td>NaN</td>\n",
       "      <td>162</td>\n",
       "      <td>2017</td>\n",
       "      <td>2</td>\n",
       "      <td>95119</td>\n",
       "    </tr>\n",
       "    <tr>\n",
       "      <th>3</th>\n",
       "      <td>3432422</td>\n",
       "      <td>1482440</td>\n",
       "      <td>259208</td>\n",
       "      <td>1</td>\n",
       "      <td>200</td>\n",
       "      <td>2017-02-08 14:41:00.0</td>\n",
       "      <td>1.0</td>\n",
       "      <td>2017-02-16 17:46:14</td>\n",
       "      <td>0</td>\n",
       "      <td>NaN</td>\n",
       "      <td>...</td>\n",
       "      <td>NaN</td>\n",
       "      <td>NaN</td>\n",
       "      <td>NaN</td>\n",
       "      <td>NaN</td>\n",
       "      <td>NaN</td>\n",
       "      <td>NaN</td>\n",
       "      <td>162</td>\n",
       "      <td>2017</td>\n",
       "      <td>2</td>\n",
       "      <td>95120</td>\n",
       "    </tr>\n",
       "    <tr>\n",
       "      <th>4</th>\n",
       "      <td>3432492</td>\n",
       "      <td>100845</td>\n",
       "      <td>259196</td>\n",
       "      <td>1</td>\n",
       "      <td>100</td>\n",
       "      <td>2017-02-08 14:46:00.0</td>\n",
       "      <td>1.0</td>\n",
       "      <td>2017-03-08 15:12:19</td>\n",
       "      <td>0</td>\n",
       "      <td>NaN</td>\n",
       "      <td>...</td>\n",
       "      <td>NaN</td>\n",
       "      <td>NaN</td>\n",
       "      <td>NaN</td>\n",
       "      <td>NaN</td>\n",
       "      <td>NaN</td>\n",
       "      <td>NaN</td>\n",
       "      <td>162</td>\n",
       "      <td>2017</td>\n",
       "      <td>2</td>\n",
       "      <td>95121</td>\n",
       "    </tr>\n",
       "  </tbody>\n",
       "</table>\n",
       "<p>5 rows × 29 columns</p>\n",
       "</div>"
      ],
      "text/plain": [
       "   consumer_incentive_id  consumer_id_id  incentive_id  status  value  \\\n",
       "0                3432393         1252666        256009       1    100   \n",
       "1                3432395          151777        251856       1    150   \n",
       "2                3432419          268582        259208       1    200   \n",
       "3                3432422         1482440        259208       1    200   \n",
       "4                3432492          100845        259196       1    100   \n",
       "\n",
       "          selection_date  redeem_count          redeem_date  retailer_id  \\\n",
       "0  2017-02-08 14:38:38.0           1.0  2017-02-10 19:09:58            0   \n",
       "1  2017-02-08 14:38:40.0           1.0  2017-04-15 14:26:07            0   \n",
       "2  2017-02-08 14:40:43.0           1.0  2017-02-08 12:22:40            0   \n",
       "3  2017-02-08 14:41:00.0           1.0  2017-02-16 17:46:14            0   \n",
       "4  2017-02-08 14:46:00.0           1.0  2017-03-08 15:12:19            0   \n",
       "\n",
       "   withdrawn_datetime  ...    created_by  created_source  created_timestamp  \\\n",
       "0                 NaN  ...           NaN             NaN                NaN   \n",
       "1                 NaN  ...           NaN             NaN                NaN   \n",
       "2                 NaN  ...           NaN             NaN                NaN   \n",
       "3                 NaN  ...           NaN             NaN                NaN   \n",
       "4                 NaN  ...           NaN             NaN                NaN   \n",
       "\n",
       "   updated_by  updated_source  updated_timestamp  clientid  transyear  \\\n",
       "0         NaN             NaN                NaN       162       2017   \n",
       "1         NaN             NaN                NaN       162       2017   \n",
       "2         NaN             NaN                NaN       162       2017   \n",
       "3         NaN             NaN                NaN       162       2017   \n",
       "4         NaN             NaN                NaN       162       2017   \n",
       "\n",
       "  transmonth     rk  \n",
       "0          2  95117  \n",
       "1          2  95118  \n",
       "2          2  95119  \n",
       "3          2  95120  \n",
       "4          2  95121  \n",
       "\n",
       "[5 rows x 29 columns]"
      ]
     },
     "execution_count": 4,
     "metadata": {},
     "output_type": "execute_result"
    }
   ],
   "source": [
    "#reading top rows of dataframe\n",
    "df1.head()"
   ]
  },
  {
   "cell_type": "code",
   "execution_count": 5,
   "metadata": {},
   "outputs": [
    {
     "name": "stdout",
     "output_type": "stream",
     "text": [
      "<class 'pandas.core.frame.DataFrame'>\n",
      "RangeIndex: 871255 entries, 0 to 871254\n",
      "Data columns (total 29 columns):\n",
      "consumer_incentive_id         871255 non-null int64\n",
      "consumer_id_id                871255 non-null int64\n",
      "incentive_id                  871255 non-null int64\n",
      "status                        871255 non-null int64\n",
      "value                         871255 non-null int64\n",
      "selection_date                871255 non-null object\n",
      "redeem_count                  78395 non-null float64\n",
      "redeem_date                   78395 non-null object\n",
      "retailer_id                   871255 non-null int64\n",
      "withdrawn_datetime            0 non-null float64\n",
      "redeemable_start_date         0 non-null float64\n",
      "redeemable_end_date           0 non-null float64\n",
      "site_id                       0 non-null float64\n",
      "dynamic_display_start_date    0 non-null float64\n",
      "dynamic_display_end_date      0 non-null float64\n",
      "incentive_clip_type_id        0 non-null float64\n",
      "redeemer_consumer_id_id       871255 non-null int64\n",
      "media_property_id             867597 non-null float64\n",
      "clip_timestamp                871255 non-null object\n",
      "created_by                    0 non-null float64\n",
      "created_source                0 non-null float64\n",
      "created_timestamp             0 non-null float64\n",
      "updated_by                    0 non-null float64\n",
      "updated_source                0 non-null float64\n",
      "updated_timestamp             0 non-null float64\n",
      "clientid                      871255 non-null int64\n",
      "transyear                     871255 non-null int64\n",
      "transmonth                    871255 non-null int64\n",
      "rk                            871255 non-null int64\n",
      "dtypes: float64(15), int64(11), object(3)\n",
      "memory usage: 192.8+ MB\n"
     ]
    }
   ],
   "source": [
    "df1.info()"
   ]
  },
  {
   "cell_type": "code",
   "execution_count": 6,
   "metadata": {},
   "outputs": [
    {
     "data": {
      "text/plain": [
       "29"
      ]
     },
     "execution_count": 6,
     "metadata": {},
     "output_type": "execute_result"
    }
   ],
   "source": [
    "len(df1.columns)"
   ]
  },
  {
   "cell_type": "code",
   "execution_count": 7,
   "metadata": {},
   "outputs": [
    {
     "name": "stderr",
     "output_type": "stream",
     "text": [
      "C:\\Papu\\Anaconda3\\lib\\site-packages\\IPython\\core\\interactiveshell.py:2785: DtypeWarning: Columns (7) have mixed types. Specify dtype option on import or set low_memory=False.\n",
      "  interactivity=interactivity, compiler=compiler, result=result)\n"
     ]
    }
   ],
   "source": [
    "#reading consumer_incentive_2 csv file to dataframe\n",
    "df2 = pd.read_csv(\"consumer_incentive_2.csv\")"
   ]
  },
  {
   "cell_type": "code",
   "execution_count": 8,
   "metadata": {},
   "outputs": [
    {
     "data": {
      "text/plain": [
       "29"
      ]
     },
     "execution_count": 8,
     "metadata": {},
     "output_type": "execute_result"
    }
   ],
   "source": [
    "len(df2.columns)"
   ]
  },
  {
   "cell_type": "code",
   "execution_count": 9,
   "metadata": {},
   "outputs": [],
   "source": [
    "#reading consumer_incentive_3 csv file to dataframe\n",
    "df3 = pd.read_csv(\"consumer_incentive_3.csv\")"
   ]
  },
  {
   "cell_type": "code",
   "execution_count": 10,
   "metadata": {},
   "outputs": [
    {
     "data": {
      "text/plain": [
       "871255"
      ]
     },
     "execution_count": 10,
     "metadata": {},
     "output_type": "execute_result"
    }
   ],
   "source": [
    "len(df1)"
   ]
  },
  {
   "cell_type": "code",
   "execution_count": 11,
   "metadata": {},
   "outputs": [
    {
     "data": {
      "text/plain": [
       "670879"
      ]
     },
     "execution_count": 11,
     "metadata": {},
     "output_type": "execute_result"
    }
   ],
   "source": [
    "len(df2)"
   ]
  },
  {
   "cell_type": "code",
   "execution_count": 12,
   "metadata": {},
   "outputs": [
    {
     "data": {
      "text/plain": [
       "696616"
      ]
     },
     "execution_count": 12,
     "metadata": {},
     "output_type": "execute_result"
    }
   ],
   "source": [
    "len(df3)"
   ]
  },
  {
   "cell_type": "code",
   "execution_count": 13,
   "metadata": {},
   "outputs": [
    {
     "data": {
      "text/plain": [
       "2238750"
      ]
     },
     "execution_count": 13,
     "metadata": {},
     "output_type": "execute_result"
    }
   ],
   "source": [
    "len(df1)+len(df2)+len(df3)"
   ]
  },
  {
   "cell_type": "code",
   "execution_count": 14,
   "metadata": {},
   "outputs": [
    {
     "name": "stderr",
     "output_type": "stream",
     "text": [
      "C:\\Papu\\Anaconda3\\lib\\site-packages\\ipykernel_launcher.py:2: FutureWarning: Sorting because non-concatenation axis is not aligned. A future version\n",
      "of pandas will change to not sort by default.\n",
      "\n",
      "To accept the future behavior, pass 'sort=True'.\n",
      "\n",
      "To retain the current behavior and silence the warning, pass sort=False\n",
      "\n",
      "  \n"
     ]
    }
   ],
   "source": [
    "#combining dataframes df1, df2 and df3 into df4\n",
    "df4 = pd.concat([df1,df2,df3])"
   ]
  },
  {
   "cell_type": "code",
   "execution_count": 15,
   "metadata": {},
   "outputs": [
    {
     "data": {
      "text/plain": [
       "2238750"
      ]
     },
     "execution_count": 15,
     "metadata": {},
     "output_type": "execute_result"
    }
   ],
   "source": [
    "len(df4)"
   ]
  },
  {
   "cell_type": "code",
   "execution_count": 16,
   "metadata": {},
   "outputs": [
    {
     "data": {
      "text/html": [
       "<div>\n",
       "<style scoped>\n",
       "    .dataframe tbody tr th:only-of-type {\n",
       "        vertical-align: middle;\n",
       "    }\n",
       "\n",
       "    .dataframe tbody tr th {\n",
       "        vertical-align: top;\n",
       "    }\n",
       "\n",
       "    .dataframe thead th {\n",
       "        text-align: right;\n",
       "    }\n",
       "</style>\n",
       "<table border=\"1\" class=\"dataframe\">\n",
       "  <thead>\n",
       "    <tr style=\"text-align: right;\">\n",
       "      <th></th>\n",
       "      <th>clientid</th>\n",
       "      <th>clip_timestamp</th>\n",
       "      <th>consumer_id_id</th>\n",
       "      <th>consumer_incentive_id</th>\n",
       "      <th>consumer_incentive_id|consumer_id_id|incentive_id|status|value|selection_date|redeem_count|redeem_date|retailer_id|withdrawn_datetime|redeemable_start_date|redeemable_end_date|site_id|dynamic_display_start_date|dynamic_display_end_date|incentive_clip_type_id|redeemer_consumer_id_id|media_property_id|clip_timestamp|created_by|created_source|created_timestamp|updated_by|updated_source|updated_timestamp|clientid|transyear|transmonth</th>\n",
       "      <th>created_by</th>\n",
       "      <th>created_source</th>\n",
       "      <th>created_timestamp</th>\n",
       "      <th>dynamic_display_end_date</th>\n",
       "      <th>dynamic_display_start_date</th>\n",
       "      <th>...</th>\n",
       "      <th>selection_date</th>\n",
       "      <th>site_id</th>\n",
       "      <th>status</th>\n",
       "      <th>transmonth</th>\n",
       "      <th>transyear</th>\n",
       "      <th>updated_by</th>\n",
       "      <th>updated_source</th>\n",
       "      <th>updated_timestamp</th>\n",
       "      <th>value</th>\n",
       "      <th>withdrawn_datetime</th>\n",
       "    </tr>\n",
       "  </thead>\n",
       "  <tbody>\n",
       "    <tr>\n",
       "      <th>0</th>\n",
       "      <td>162.0</td>\n",
       "      <td>2017-02-08 14:38:38</td>\n",
       "      <td>1252666.0</td>\n",
       "      <td>3432393.0</td>\n",
       "      <td>NaN</td>\n",
       "      <td>NaN</td>\n",
       "      <td>NaN</td>\n",
       "      <td>NaN</td>\n",
       "      <td>NaN</td>\n",
       "      <td>NaN</td>\n",
       "      <td>...</td>\n",
       "      <td>2017-02-08 14:38:38.0</td>\n",
       "      <td>NaN</td>\n",
       "      <td>1.0</td>\n",
       "      <td>2.0</td>\n",
       "      <td>2017.0</td>\n",
       "      <td>NaN</td>\n",
       "      <td>NaN</td>\n",
       "      <td>NaN</td>\n",
       "      <td>100.0</td>\n",
       "      <td>NaN</td>\n",
       "    </tr>\n",
       "    <tr>\n",
       "      <th>1</th>\n",
       "      <td>162.0</td>\n",
       "      <td>2017-02-08 14:38:40</td>\n",
       "      <td>151777.0</td>\n",
       "      <td>3432395.0</td>\n",
       "      <td>NaN</td>\n",
       "      <td>NaN</td>\n",
       "      <td>NaN</td>\n",
       "      <td>NaN</td>\n",
       "      <td>NaN</td>\n",
       "      <td>NaN</td>\n",
       "      <td>...</td>\n",
       "      <td>2017-02-08 14:38:40.0</td>\n",
       "      <td>NaN</td>\n",
       "      <td>1.0</td>\n",
       "      <td>2.0</td>\n",
       "      <td>2017.0</td>\n",
       "      <td>NaN</td>\n",
       "      <td>NaN</td>\n",
       "      <td>NaN</td>\n",
       "      <td>150.0</td>\n",
       "      <td>NaN</td>\n",
       "    </tr>\n",
       "    <tr>\n",
       "      <th>2</th>\n",
       "      <td>162.0</td>\n",
       "      <td>2017-02-08 14:40:42</td>\n",
       "      <td>268582.0</td>\n",
       "      <td>3432419.0</td>\n",
       "      <td>NaN</td>\n",
       "      <td>NaN</td>\n",
       "      <td>NaN</td>\n",
       "      <td>NaN</td>\n",
       "      <td>NaN</td>\n",
       "      <td>NaN</td>\n",
       "      <td>...</td>\n",
       "      <td>2017-02-08 14:40:43.0</td>\n",
       "      <td>NaN</td>\n",
       "      <td>1.0</td>\n",
       "      <td>2.0</td>\n",
       "      <td>2017.0</td>\n",
       "      <td>NaN</td>\n",
       "      <td>NaN</td>\n",
       "      <td>NaN</td>\n",
       "      <td>200.0</td>\n",
       "      <td>NaN</td>\n",
       "    </tr>\n",
       "    <tr>\n",
       "      <th>3</th>\n",
       "      <td>162.0</td>\n",
       "      <td>2017-02-08 14:41:00</td>\n",
       "      <td>1482440.0</td>\n",
       "      <td>3432422.0</td>\n",
       "      <td>NaN</td>\n",
       "      <td>NaN</td>\n",
       "      <td>NaN</td>\n",
       "      <td>NaN</td>\n",
       "      <td>NaN</td>\n",
       "      <td>NaN</td>\n",
       "      <td>...</td>\n",
       "      <td>2017-02-08 14:41:00.0</td>\n",
       "      <td>NaN</td>\n",
       "      <td>1.0</td>\n",
       "      <td>2.0</td>\n",
       "      <td>2017.0</td>\n",
       "      <td>NaN</td>\n",
       "      <td>NaN</td>\n",
       "      <td>NaN</td>\n",
       "      <td>200.0</td>\n",
       "      <td>NaN</td>\n",
       "    </tr>\n",
       "    <tr>\n",
       "      <th>4</th>\n",
       "      <td>162.0</td>\n",
       "      <td>2017-02-08 14:46:00</td>\n",
       "      <td>100845.0</td>\n",
       "      <td>3432492.0</td>\n",
       "      <td>NaN</td>\n",
       "      <td>NaN</td>\n",
       "      <td>NaN</td>\n",
       "      <td>NaN</td>\n",
       "      <td>NaN</td>\n",
       "      <td>NaN</td>\n",
       "      <td>...</td>\n",
       "      <td>2017-02-08 14:46:00.0</td>\n",
       "      <td>NaN</td>\n",
       "      <td>1.0</td>\n",
       "      <td>2.0</td>\n",
       "      <td>2017.0</td>\n",
       "      <td>NaN</td>\n",
       "      <td>NaN</td>\n",
       "      <td>NaN</td>\n",
       "      <td>100.0</td>\n",
       "      <td>NaN</td>\n",
       "    </tr>\n",
       "  </tbody>\n",
       "</table>\n",
       "<p>5 rows × 30 columns</p>\n",
       "</div>"
      ],
      "text/plain": [
       "   clientid       clip_timestamp  consumer_id_id  consumer_incentive_id  \\\n",
       "0     162.0  2017-02-08 14:38:38       1252666.0              3432393.0   \n",
       "1     162.0  2017-02-08 14:38:40        151777.0              3432395.0   \n",
       "2     162.0  2017-02-08 14:40:42        268582.0              3432419.0   \n",
       "3     162.0  2017-02-08 14:41:00       1482440.0              3432422.0   \n",
       "4     162.0  2017-02-08 14:46:00        100845.0              3432492.0   \n",
       "\n",
       "  consumer_incentive_id|consumer_id_id|incentive_id|status|value|selection_date|redeem_count|redeem_date|retailer_id|withdrawn_datetime|redeemable_start_date|redeemable_end_date|site_id|dynamic_display_start_date|dynamic_display_end_date|incentive_clip_type_id|redeemer_consumer_id_id|media_property_id|clip_timestamp|created_by|created_source|created_timestamp|updated_by|updated_source|updated_timestamp|clientid|transyear|transmonth  \\\n",
       "0                                                NaN                                                                                                                                                                                                                                                                                                                                                                                                  \n",
       "1                                                NaN                                                                                                                                                                                                                                                                                                                                                                                                  \n",
       "2                                                NaN                                                                                                                                                                                                                                                                                                                                                                                                  \n",
       "3                                                NaN                                                                                                                                                                                                                                                                                                                                                                                                  \n",
       "4                                                NaN                                                                                                                                                                                                                                                                                                                                                                                                  \n",
       "\n",
       "   created_by  created_source  created_timestamp  dynamic_display_end_date  \\\n",
       "0         NaN             NaN                NaN                       NaN   \n",
       "1         NaN             NaN                NaN                       NaN   \n",
       "2         NaN             NaN                NaN                       NaN   \n",
       "3         NaN             NaN                NaN                       NaN   \n",
       "4         NaN             NaN                NaN                       NaN   \n",
       "\n",
       "   dynamic_display_start_date         ...                 selection_date  \\\n",
       "0                         NaN         ...          2017-02-08 14:38:38.0   \n",
       "1                         NaN         ...          2017-02-08 14:38:40.0   \n",
       "2                         NaN         ...          2017-02-08 14:40:43.0   \n",
       "3                         NaN         ...          2017-02-08 14:41:00.0   \n",
       "4                         NaN         ...          2017-02-08 14:46:00.0   \n",
       "\n",
       "   site_id  status  transmonth transyear  updated_by  updated_source  \\\n",
       "0      NaN     1.0         2.0    2017.0         NaN             NaN   \n",
       "1      NaN     1.0         2.0    2017.0         NaN             NaN   \n",
       "2      NaN     1.0         2.0    2017.0         NaN             NaN   \n",
       "3      NaN     1.0         2.0    2017.0         NaN             NaN   \n",
       "4      NaN     1.0         2.0    2017.0         NaN             NaN   \n",
       "\n",
       "   updated_timestamp  value  withdrawn_datetime  \n",
       "0                NaN  100.0                 NaN  \n",
       "1                NaN  150.0                 NaN  \n",
       "2                NaN  200.0                 NaN  \n",
       "3                NaN  200.0                 NaN  \n",
       "4                NaN  100.0                 NaN  \n",
       "\n",
       "[5 rows x 30 columns]"
      ]
     },
     "execution_count": 16,
     "metadata": {},
     "output_type": "execute_result"
    }
   ],
   "source": [
    "df4.head()"
   ]
  },
  {
   "cell_type": "code",
   "execution_count": 17,
   "metadata": {},
   "outputs": [],
   "source": [
    "df4.drop(['consumer_incentive_id|consumer_id_id|incentive_id|status|value|selection_date|redeem_count|redeem_date|retailer_id|withdrawn_datetime|redeemable_start_date|redeemable_end_date|site_id|dynamic_display_start_date|dynamic_display_end_date|incentive_clip_type_id|redeemer_consumer_id_id|media_property_id|clip_timestamp|created_by|created_source|created_timestamp|updated_by|updated_source|updated_timestamp|clientid|transyear|transmonth']\\\n",
    "        ,axis=1, inplace=True)"
   ]
  },
  {
   "cell_type": "code",
   "execution_count": 18,
   "metadata": {},
   "outputs": [],
   "source": [
    "#writing df4 dataframe to a csv file\n",
    "df4.to_csv(\"consumer_incentive.csv\")"
   ]
  },
  {
   "cell_type": "code",
   "execution_count": 19,
   "metadata": {},
   "outputs": [
    {
     "name": "stdout",
     "output_type": "stream",
     "text": [
      "<class 'pandas.core.frame.DataFrame'>\n",
      "Int64Index: 2238750 entries, 0 to 696615\n",
      "Data columns (total 29 columns):\n",
      "clientid                      float64\n",
      "clip_timestamp                object\n",
      "consumer_id_id                float64\n",
      "consumer_incentive_id         float64\n",
      "created_by                    float64\n",
      "created_source                float64\n",
      "created_timestamp             float64\n",
      "dynamic_display_end_date      float64\n",
      "dynamic_display_start_date    float64\n",
      "incentive_clip_type_id        float64\n",
      "incentive_id                  float64\n",
      "media_property_id             float64\n",
      "redeem_count                  float64\n",
      "redeem_date                   object\n",
      "redeemable_end_date           float64\n",
      "redeemable_start_date         float64\n",
      "redeemer_consumer_id_id       float64\n",
      "retailer_id                   float64\n",
      "rk                            float64\n",
      "selection_date                object\n",
      "site_id                       float64\n",
      "status                        float64\n",
      "transmonth                    float64\n",
      "transyear                     float64\n",
      "updated_by                    float64\n",
      "updated_source                float64\n",
      "updated_timestamp             float64\n",
      "value                         float64\n",
      "withdrawn_datetime            float64\n",
      "dtypes: float64(26), object(3)\n",
      "memory usage: 512.4+ MB\n"
     ]
    }
   ],
   "source": [
    "df4.info()"
   ]
  },
  {
   "cell_type": "code",
   "execution_count": null,
   "metadata": {},
   "outputs": [],
   "source": []
  }
 ],
 "metadata": {
  "kernelspec": {
   "display_name": "Python 3",
   "language": "python",
   "name": "python3"
  },
  "language_info": {
   "codemirror_mode": {
    "name": "ipython",
    "version": 3
   },
   "file_extension": ".py",
   "mimetype": "text/x-python",
   "name": "python",
   "nbconvert_exporter": "python",
   "pygments_lexer": "ipython3",
   "version": "3.6.5"
  }
 },
 "nbformat": 4,
 "nbformat_minor": 2
}
